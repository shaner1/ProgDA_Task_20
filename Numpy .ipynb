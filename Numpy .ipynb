{
 "cells": [
  {
   "cell_type": "markdown",
   "metadata": {},
   "source": [
    "# <div align=\"center\"> Programming for Data Analysis 2020\n",
    "\n",
    "![logo](numpy.png)\n",
    "\n",
    "# Practical Assignment: numpy.random\n"
   ]
  },
  {
   "cell_type": "markdown",
   "metadata": {},
   "source": [
    "In this notebook, I will investigate the numpy.random package. I will begin with a brief discussion of the Numpy library and then move onto my investigation of the Numpy.Random, which will consist of 4 sections:\n",
    "1. Numpy.Random package.\n",
    "- *Simple Random Data* and *Premutation* functions.\n",
    "- Distributions \n",
    "- Seeds\n",
    "\n",
    "The author of this document is Shane Rylands (g00387904@gmit.ie)\n",
    "***"
   ]
  },
  {
   "cell_type": "markdown",
   "metadata": {},
   "source": [
    "# Introduction\n",
    "\n",
    "Numpy is the fundamental package for data science, upon which many other industry standard libraries are built, such as Pandas. Numpy enables the efficient creation and computation of multi-dimensional arrays [1][2]. \n",
    "\n",
    "We access the NumPy library by importing it: \n",
    "\n",
    "\n",
    "\n",
    "Numpy is also very useful for simulating random data with the help of it's random package, which we shall investigate here."
   ]
  },
  {
   "cell_type": "code",
   "execution_count": 41,
   "metadata": {},
   "outputs": [],
   "source": [
    "#importing numpy\n",
    "\n",
    "import numpy as np"
   ]
  },
  {
   "cell_type": "markdown",
   "metadata": {},
   "source": [
    "Now that we have imported the NumPy library we can create arrays in a number of ways. One such way is with NumPy's  powerful np.arange. "
   ]
  },
  {
   "cell_type": "code",
   "execution_count": 42,
   "metadata": {},
   "outputs": [
    {
     "data": {
      "text/plain": [
       "array([0, 1, 2, 3, 4, 5])"
      ]
     },
     "execution_count": 42,
     "metadata": {},
     "output_type": "execute_result"
    }
   ],
   "source": [
    "np.arange(6)"
   ]
  },
  {
   "cell_type": "markdown",
   "metadata": {},
   "source": [
    "A key advantage that Numpy has over Pythons built-in sequences is that it allows you to perform various operations upon arrays. For example, let us compare applying a basic mathematical operation to a pair of lists using both Pythons built-in sequences and Numpy. \n",
    "[1][2]"
   ]
  },
  {
   "cell_type": "code",
   "execution_count": 43,
   "metadata": {
    "scrolled": true
   },
   "outputs": [
    {
     "ename": "TypeError",
     "evalue": "can't multiply sequence by non-int of type 'list'",
     "output_type": "error",
     "traceback": [
      "\u001b[0;31m---------------------------------------------------------------------------\u001b[0m",
      "\u001b[0;31mTypeError\u001b[0m                                 Traceback (most recent call last)",
      "\u001b[0;32m<ipython-input-43-cfdac0d7bb29>\u001b[0m in \u001b[0;36m<module>\u001b[0;34m\u001b[0m\n\u001b[1;32m      2\u001b[0m \u001b[0mb\u001b[0m \u001b[0;34m=\u001b[0m \u001b[0;34m[\u001b[0m\u001b[0;36m1\u001b[0m\u001b[0;34m,\u001b[0m\u001b[0;36m3\u001b[0m\u001b[0;34m,\u001b[0m\u001b[0;36m5\u001b[0m\u001b[0;34m]\u001b[0m\u001b[0;34m\u001b[0m\u001b[0;34m\u001b[0m\u001b[0m\n\u001b[1;32m      3\u001b[0m \u001b[0;34m\u001b[0m\u001b[0m\n\u001b[0;32m----> 4\u001b[0;31m \u001b[0ma\u001b[0m\u001b[0;34m*\u001b[0m\u001b[0mb\u001b[0m\u001b[0;34m\u001b[0m\u001b[0;34m\u001b[0m\u001b[0m\n\u001b[0m",
      "\u001b[0;31mTypeError\u001b[0m: can't multiply sequence by non-int of type 'list'"
     ]
    }
   ],
   "source": [
    "a = [1,2,3]\n",
    "b = [1,3,5]\n",
    "\n",
    "a*b"
   ]
  },
  {
   "cell_type": "markdown",
   "metadata": {},
   "source": [
    "Above we can see that using Python Lists we are unable to multiple 2 lists. However, here we see that using Numpy it is possible to perform this operation;"
   ]
  },
  {
   "cell_type": "code",
   "execution_count": 44,
   "metadata": {},
   "outputs": [
    {
     "data": {
      "text/plain": [
       "array([ 1,  6, 15])"
      ]
     },
     "execution_count": 44,
     "metadata": {},
     "output_type": "execute_result"
    }
   ],
   "source": [
    "a = np.array([1,2,3])\n",
    "b = np.array([1,3,5])\n",
    "\n",
    "a*b"
   ]
  },
  {
   "cell_type": "markdown",
   "metadata": {},
   "source": [
    "***"
   ]
  },
  {
   "cell_type": "markdown",
   "metadata": {},
   "source": [
    "# NumPy.Random\n",
    "\n",
    "Another key function of NumPy is creating random data. To create random data the NumPy.Random is used. This section will provide an overview of the package and its common uses.\n"
   ]
  },
  {
   "cell_type": "markdown",
   "metadata": {},
   "source": [
    "## Overview \n",
    "\n",
    "In the natural world, we encounter randomness everywhere. By observing this randomness it is possible to generate random, nondeterministic sequences of numbers. However, computers are deterministic and therefore predictable, making it difficult for a computer to generate truly random data. The numpy.random package is used to generate pseudo random numbers [3]\n",
    "\n",
    "In order to approxiamte random numbers, Numpy uses a combination of BitGeneratos and Generators. BitGenerators is an object that contains a string of integers words, which comprise of either 32 or 64 random bits. The BitGenerator is initialized with a Seed, which we shall look at later. The Generator object then uses a probability distribution to take a random sequence of numbers from the BitGenerator to produce a psuedo random sequence of numbers.\n",
    "\n",
    "Below is an example of how we use the NumPy.Random module to call the random number generator and produce a psuedo-random sequence of numbers\n",
    "\n"
   ]
  },
  {
   "cell_type": "code",
   "execution_count": 45,
   "metadata": {},
   "outputs": [
    {
     "data": {
      "image/png": "[encoded data removed]",
      "text/plain": [
       "<Figure size 432x288 with 1 Axes>"
      ]
     },
     "metadata": {
      "needs_background": "light"
     },
     "output_type": "display_data"
    }
   ],
   "source": [
    "\n",
    "import numpy as np \n",
    "import matplotlib.pyplot as plt\n",
    "%matplotlib inline\n",
    "\n",
    "rng = np.random.default_rng()\n",
    "#call the random number generator\n",
    "x = rng.random(100)\n",
    "# use the random function to create an array of 100 float values between 0 -1\n",
    "y = np.arange(100)\n",
    "\n",
    "\n",
    "\n",
    "plt.scatter(x,y)\n",
    "plt.title(\"Plot of 100 random floats generated with the NumPy.Random \")\n",
    "\n",
    "plt.show()\n"
   ]
  },
  {
   "cell_type": "markdown",
   "metadata": {},
   "source": [
    "## Simple Random Data "
   ]
  },
  {
   "cell_type": "markdown",
   "metadata": {},
   "source": [
    "The Simple Random Data module allows for the randmom generation of values of different data types. Simple Random Data module contains 4 functions which we will now investigate:\n",
    "* Integers\n",
    "* Random\n",
    "* Choice \n",
    "* Bytes\n",
    "\n",
    "### Integers \n",
    "***"
   ]
  },
  {
   "cell_type": "markdown",
   "metadata": {},
   "source": [
    "This function allows for the generation of random integers or shaped arrays consisting of random sequences of integers. The result of this function is determined by a discrete uniform distirbutions. The function has a a number of parameters which we will now look at."
   ]
  },
  {
   "cell_type": "markdown",
   "metadata": {},
   "source": [
    "**High & Low**\n"
   ]
  },
  {
   "cell_type": "code",
   "execution_count": 46,
   "metadata": {},
   "outputs": [
    {
     "data": {
      "text/plain": [
       "19"
      ]
     },
     "execution_count": 46,
     "metadata": {},
     "output_type": "execute_result"
    }
   ],
   "source": [
    "import numpy as np \n",
    "\n",
    "rng = np.random.default_rng()\n",
    "# we create a random number generator object called rng\n",
    "\n",
    "rng.integers(20)\n",
    "#we then tell rng to generate random integers. \n",
    "#When we use pass a single arguement into rng.integer we get a return of a single integer value between 0-20 (exclusive)\n",
    "#rng will not run without any parameters "
   ]
  },
  {
   "cell_type": "code",
   "execution_count": 47,
   "metadata": {},
   "outputs": [
    {
     "data": {
      "text/plain": [
       "14"
      ]
     },
     "execution_count": 47,
     "metadata": {},
     "output_type": "execute_result"
    }
   ],
   "source": [
    "rng.integers(5,20)\n",
    "#we can pass both high and low arguements, which will\n",
    "# return a random integer between the high (exclusive) and low (inclusive) values in this case 5-20\n"
   ]
  },
  {
   "cell_type": "markdown",
   "metadata": {},
   "source": [
    "**Size**"
   ]
  },
  {
   "cell_type": "code",
   "execution_count": 48,
   "metadata": {},
   "outputs": [
    {
     "data": {
      "text/plain": [
       "array([19,  6, 16, 18, 19,  8,  5,  8,  7, 10])"
      ]
     },
     "execution_count": 48,
     "metadata": {},
     "output_type": "execute_result"
    }
   ],
   "source": [
    "rng.integers(5,20, size=10)\n",
    "#we can specific the amount to values we want returned with size  \n"
   ]
  },
  {
   "cell_type": "code",
   "execution_count": 49,
   "metadata": {},
   "outputs": [
    {
     "data": {
      "text/plain": [
       "array([[15, 14,  5,  5, 16,  9, 14, 15,  9,  8],\n",
       "       [10,  9,  5, 14,  5, 13,  9, 18, 19, 16],\n",
       "       [18, 11, 16, 12, 11,  8, 10, 17, 13,  8],\n",
       "       [18, 11, 11, 17,  8,  5,  6, 10, 10, 12],\n",
       "       [17,  6, 12, 14, 15, 10, 15,  5, 16, 14]])"
      ]
     },
     "execution_count": 49,
     "metadata": {},
     "output_type": "execute_result"
    }
   ],
   "source": [
    "rng.integers(5,20, size=(5,10))\n",
    "#we can use size to generate multidimension arrays. size=(rows,columns)\n",
    "#as we saw above if we pass a single arguement to size it will refer to the columns\n",
    "#/ amount of elements in a 1D array \n"
   ]
  },
  {
   "cell_type": "code",
   "execution_count": 50,
   "metadata": {},
   "outputs": [
    {
     "data": {
      "text/plain": [
       "array([[[[11, 15],\n",
       "         [ 5,  9],\n",
       "         [10, 12]],\n",
       "\n",
       "        [[11,  6],\n",
       "         [ 8,  6],\n",
       "         [ 5, 13]],\n",
       "\n",
       "        [[11, 17],\n",
       "         [16, 13],\n",
       "         [11, 12]]],\n",
       "\n",
       "\n",
       "       [[[17, 18],\n",
       "         [10, 17],\n",
       "         [17, 14]],\n",
       "\n",
       "        [[ 6, 14],\n",
       "         [13,  5],\n",
       "         [ 8, 19]],\n",
       "\n",
       "        [[17, 18],\n",
       "         [ 7,  6],\n",
       "         [12,  8]]]])"
      ]
     },
     "execution_count": 50,
     "metadata": {},
     "output_type": "execute_result"
    }
   ],
   "source": [
    "rng.integers(5,20, size=(2,3,3,2))\n",
    "#we can generate 4 dimensional arrays"
   ]
  },
  {
   "cell_type": "markdown",
   "metadata": {},
   "source": [
    "**dtype**"
   ]
  },
  {
   "cell_type": "markdown",
   "metadata": {},
   "source": [
    "You can specify a data type for your return with dtype. By default the return value is int64\n",
    "\n"
   ]
  },
  {
   "cell_type": "code",
   "execution_count": 51,
   "metadata": {},
   "outputs": [
    {
     "data": {
      "text/plain": [
       "dtype('int64')"
      ]
     },
     "execution_count": 51,
     "metadata": {},
     "output_type": "execute_result"
    }
   ],
   "source": [
    "x = rng.integers(5,20, size=10)\n",
    "x.dtype"
   ]
  },
  {
   "cell_type": "code",
   "execution_count": 52,
   "metadata": {},
   "outputs": [
    {
     "data": {
      "text/plain": [
       "dtype('int32')"
      ]
     },
     "execution_count": 52,
     "metadata": {},
     "output_type": "execute_result"
    }
   ],
   "source": [
    "y = rng.integers(5,20, size=10, dtype = np.int32)\n",
    "y.dtype"
   ]
  },
  {
   "cell_type": "markdown",
   "metadata": {},
   "source": [
    "**endpoint**\n",
    "\n",
    "The endpoint determne whether the high value is inclusive or not. The default value is false, which is exclusive. True = inclusive.  "
   ]
  },
  {
   "cell_type": "markdown",
   "metadata": {},
   "source": [
    "In this section we will investigate the Simple Random Data function and Explain its use"
   ]
  },
  {
   "cell_type": "code",
   "execution_count": 53,
   "metadata": {},
   "outputs": [
    {
     "data": {
      "image/png": "[encoded data removed]",
      "text/plain": [
       "<Figure size 432x288 with 1 Axes>"
      ]
     },
     "metadata": {
      "needs_background": "light"
     },
     "output_type": "display_data"
    }
   ],
   "source": [
    "%matplotlib inline\n",
    "import matplotlib.pyplot as plt\n",
    "\n",
    "x = rng.integers(5,20, size=10000)\n",
    "\n",
    "plt.hist(x)\n",
    "plt.show()"
   ]
  },
  {
   "cell_type": "code",
   "execution_count": 54,
   "metadata": {},
   "outputs": [
    {
     "data": {
      "image/png": "[encoded data removed]",
      "text/plain": [
       "<Figure size 432x288 with 1 Axes>"
      ]
     },
     "metadata": {
      "needs_background": "light"
     },
     "output_type": "display_data"
    }
   ],
   "source": [
    "%matplotlib inline\n",
    "import matplotlib.pyplot as plt\n",
    "\n",
    "x = rng.integers(5,20, size=10000, endpoint = True)\n",
    "\n",
    "plt.hist(x)\n",
    "plt.show()"
   ]
  },
  {
   "cell_type": "markdown",
   "metadata": {},
   "source": [
    "### Random \n",
    "***"
   ]
  },
  {
   "cell_type": "markdown",
   "metadata": {},
   "source": [
    "This function generates random float values between 0 - 1 from a continuous distribution. The random function has 3 agruements;\n",
    "\n",
    "**size**"
   ]
  },
  {
   "cell_type": "code",
   "execution_count": 55,
   "metadata": {},
   "outputs": [
    {
     "data": {
      "text/plain": [
       "0.21639310758617825"
      ]
     },
     "execution_count": 55,
     "metadata": {},
     "output_type": "execute_result"
    }
   ],
   "source": [
    "rng = np.random.default_rng()\n",
    "rng.random()\n",
    "#when no agruement is passed to random then a single, random float value is returned "
   ]
  },
  {
   "cell_type": "code",
   "execution_count": 56,
   "metadata": {},
   "outputs": [],
   "source": [
    "rng = np.random.default_rng()\n",
    "\n",
    "#when an arguement of value *n* is passed into random, an array containing *n* elements is returned. cv"
   ]
  },
  {
   "cell_type": "code",
   "execution_count": 57,
   "metadata": {},
   "outputs": [
    {
     "data": {
      "text/plain": [
       "array([[[0.26387068, 0.16141918, 0.95092741],\n",
       "        [0.84477987, 0.07606464, 0.47475039]],\n",
       "\n",
       "       [[0.25553965, 0.67476835, 0.10280993],\n",
       "        [0.71568209, 0.77343429, 0.55489201]],\n",
       "\n",
       "       [[0.89536657, 0.22869511, 0.50406282],\n",
       "        [0.03201383, 0.93813423, 0.46579287]]])"
      ]
     },
     "execution_count": 57,
     "metadata": {},
     "output_type": "execute_result"
    }
   ],
   "source": [
    "rng = np.random.default_rng()\n",
    "rng.random((3,2,3))\n",
    "#you can pass a tuple of integers to create a ndarray"
   ]
  },
  {
   "cell_type": "markdown",
   "metadata": {},
   "source": [
    "**dtype**"
   ]
  },
  {
   "cell_type": "markdown",
   "metadata": {},
   "source": [
    "The default data for the random function is float64. You change the data type with the arguement dtype"
   ]
  },
  {
   "cell_type": "code",
   "execution_count": 58,
   "metadata": {},
   "outputs": [
    {
     "data": {
      "text/plain": [
       "dtype('float64')"
      ]
     },
     "execution_count": 58,
     "metadata": {},
     "output_type": "execute_result"
    }
   ],
   "source": [
    "x = rng.random(3)\n",
    "x.dtype"
   ]
  },
  {
   "cell_type": "code",
   "execution_count": 59,
   "metadata": {},
   "outputs": [
    {
     "data": {
      "text/plain": [
       "dtype('float32')"
      ]
     },
     "execution_count": 59,
     "metadata": {},
     "output_type": "execute_result"
    }
   ],
   "source": [
    "x = rng.random(3, dtype = np.float32)\n",
    "x.dtype"
   ]
  },
  {
   "cell_type": "markdown",
   "metadata": {},
   "source": [
    "### Choice\n",
    "***\n",
    "\n",
    "Choice will generate a random sample from the elements of a given 1D array. If a single integer is provided then a choice will generate a random value from an np.array() of the value."
   ]
  },
  {
   "cell_type": "code",
   "execution_count": 60,
   "metadata": {},
   "outputs": [
    {
     "data": {
      "text/plain": [
       "2"
      ]
     },
     "execution_count": 60,
     "metadata": {},
     "output_type": "execute_result"
    }
   ],
   "source": [
    "rng = np.random.default_rng()\n",
    "rng.choice(3)\n",
    "#an arguement of a single integers will result in a random choice from an np.array of that integer"
   ]
  },
  {
   "cell_type": "code",
   "execution_count": 61,
   "metadata": {},
   "outputs": [
    {
     "data": {
      "text/plain": [
       "'apples'"
      ]
     },
     "execution_count": 61,
     "metadata": {},
     "output_type": "execute_result"
    }
   ],
   "source": [
    "rng = np.random.default_rng()\n",
    "fruit = ['apples','oranges','pears','bananas']\n",
    "rng.choice(fruit)\n",
    "#passing an argue of an array will result in a random choice from that array"
   ]
  },
  {
   "cell_type": "markdown",
   "metadata": {},
   "source": [
    "### Bytes\n",
    "***\n",
    "\n",
    "Will generate random byte values. Bytes takes a single integers arguement which specifies the amount of byte value to be out. Bytes will output a string of hexidecimal byte values."
   ]
  },
  {
   "cell_type": "code",
   "execution_count": 62,
   "metadata": {},
   "outputs": [
    {
     "data": {
      "text/plain": [
       "b\"'\\xdd]\""
      ]
     },
     "execution_count": 62,
     "metadata": {},
     "output_type": "execute_result"
    }
   ],
   "source": [
    "rng = np.random.default_rng()\n",
    "rng.bytes(3)"
   ]
  },
  {
   "cell_type": "markdown",
   "metadata": {},
   "source": [
    "## Permutations  \n",
    "***\n",
    "\n",
    "The permutation module will rearrange the contents of given array. Permutations contains 2 function, which edit an array in different way;\n",
    "* shuffle \n",
    "* permutation\n"
   ]
  },
  {
   "cell_type": "markdown",
   "metadata": {},
   "source": [
    "### Shuffle\n",
    "***\n",
    "\n",
    "The shuffle will modify a sequence in-place by shuffling its contents, meaning it will retain the shape and elements of an array but change the order of the elements. "
   ]
  },
  {
   "cell_type": "code",
   "execution_count": 63,
   "metadata": {},
   "outputs": [
    {
     "data": {
      "text/plain": [
       "array([0, 1, 2, 3, 4, 5, 6, 7, 8, 9])"
      ]
     },
     "execution_count": 63,
     "metadata": {},
     "output_type": "execute_result"
    }
   ],
   "source": [
    "arr = np.arange(10)\n",
    "arr\n"
   ]
  },
  {
   "cell_type": "code",
   "execution_count": 64,
   "metadata": {},
   "outputs": [
    {
     "data": {
      "text/plain": [
       "array([3, 5, 9, 8, 4, 0, 1, 7, 6, 2])"
      ]
     },
     "execution_count": 64,
     "metadata": {},
     "output_type": "execute_result"
    }
   ],
   "source": [
    "rng = np.random.default_rng()\n",
    "rng.shuffle(arr)\n",
    "arr"
   ]
  },
  {
   "cell_type": "code",
   "execution_count": 65,
   "metadata": {},
   "outputs": [
    {
     "data": {
      "text/plain": [
       "array([[ 0,  1,  2],\n",
       "       [ 3,  4,  5],\n",
       "       [ 6,  7,  8],\n",
       "       [ 9, 10, 11]])"
      ]
     },
     "execution_count": 65,
     "metadata": {},
     "output_type": "execute_result"
    }
   ],
   "source": [
    "arr = np.arange(12).reshape((4,3))\n",
    "arr\n"
   ]
  },
  {
   "cell_type": "code",
   "execution_count": 66,
   "metadata": {},
   "outputs": [
    {
     "data": {
      "text/plain": [
       "array([[ 0,  1,  2],\n",
       "       [ 3,  4,  5],\n",
       "       [ 9, 10, 11],\n",
       "       [ 6,  7,  8]])"
      ]
     },
     "execution_count": 66,
     "metadata": {},
     "output_type": "execute_result"
    }
   ],
   "source": [
    "rng = np.random.default_rng()\n",
    "rng.shuffle(arr)\n",
    "arr"
   ]
  },
  {
   "cell_type": "code",
   "execution_count": 67,
   "metadata": {},
   "outputs": [
    {
     "ename": "TypeError",
     "evalue": "shuffle() takes no keyword arguments",
     "output_type": "error",
     "traceback": [
      "\u001b[0;31m---------------------------------------------------------------------------\u001b[0m",
      "\u001b[0;31mTypeError\u001b[0m                                 Traceback (most recent call last)",
      "\u001b[0;32m<ipython-input-67-00211723e8bf>\u001b[0m in \u001b[0;36m<module>\u001b[0;34m\u001b[0m\n\u001b[0;32m----> 1\u001b[0;31m \u001b[0mrng\u001b[0m\u001b[0;34m.\u001b[0m\u001b[0mshuffle\u001b[0m\u001b[0;34m(\u001b[0m\u001b[0marr\u001b[0m\u001b[0;34m,\u001b[0m \u001b[0maxis\u001b[0m \u001b[0;34m=\u001b[0m \u001b[0;36m1\u001b[0m\u001b[0;34m)\u001b[0m\u001b[0;34m\u001b[0m\u001b[0;34m\u001b[0m\u001b[0m\n\u001b[0m\u001b[1;32m      2\u001b[0m \u001b[0marr\u001b[0m\u001b[0;34m\u001b[0m\u001b[0;34m\u001b[0m\u001b[0m\n",
      "\u001b[0;31mTypeError\u001b[0m: shuffle() takes no keyword arguments"
     ]
    }
   ],
   "source": [
    "rng.shuffle(arr, axis = 1)\n",
    "arr"
   ]
  },
  {
   "cell_type": "markdown",
   "metadata": {},
   "source": [
    "### Permutation\n",
    "***\n",
    "\n",
    "The permutation function randomly rearranges a sequence, or return a permuted range."
   ]
  },
  {
   "cell_type": "code",
   "execution_count": 68,
   "metadata": {},
   "outputs": [
    {
     "data": {
      "text/plain": [
       "array([0, 1, 2, 3, 4, 5, 6, 7, 8, 9])"
      ]
     },
     "execution_count": 68,
     "metadata": {},
     "output_type": "execute_result"
    }
   ],
   "source": [
    "np.arange(10)"
   ]
  },
  {
   "cell_type": "code",
   "execution_count": 69,
   "metadata": {},
   "outputs": [
    {
     "data": {
      "text/plain": [
       "array([6, 8, 0, 3, 1, 5, 9, 7, 2, 4])"
      ]
     },
     "execution_count": 69,
     "metadata": {},
     "output_type": "execute_result"
    }
   ],
   "source": [
    "rng = np.random.default_rng()\n",
    "rng.permutation(10)"
   ]
  },
  {
   "cell_type": "code",
   "execution_count": 70,
   "metadata": {},
   "outputs": [
    {
     "data": {
      "text/plain": [
       "array([[0, 1, 2],\n",
       "       [3, 4, 5],\n",
       "       [6, 7, 8]])"
      ]
     },
     "execution_count": 70,
     "metadata": {},
     "output_type": "execute_result"
    }
   ],
   "source": [
    "arr = np.arange(9).reshape((3, 3))\n",
    "arr"
   ]
  },
  {
   "cell_type": "code",
   "execution_count": 71,
   "metadata": {},
   "outputs": [
    {
     "data": {
      "text/plain": [
       "array([[6, 7, 8],\n",
       "       [3, 4, 5],\n",
       "       [0, 1, 2]])"
      ]
     },
     "execution_count": 71,
     "metadata": {},
     "output_type": "execute_result"
    }
   ],
   "source": [
    "arr = np.arange(9).reshape((3, 3))\n",
    "rng.permutation(arr)"
   ]
  },
  {
   "cell_type": "markdown",
   "metadata": {},
   "source": [
    "## Distributions\n",
    "\n",
    "A probability distribution is a mathematical function that gives the probability of different outcomes to occur. Probability distributions are catagorised into 2 types; discrete and continous [4]. \n",
    "\n",
    "***\n"
   ]
  },
  {
   "cell_type": "markdown",
   "metadata": {},
   "source": [
    "### Discrete Distributions "
   ]
  },
  {
   "cell_type": "markdown",
   "metadata": {},
   "source": [
    "Discrete distribuitons deal with sets of countable, finite values and a probability mass function is used to illustrate the probability of each of uts finite values. An example of a discrete probability is the roll of a dice, which has 6 possible outcomes all of which have the same likelihood of being the result \n"
   ]
  },
  {
   "cell_type": "markdown",
   "metadata": {},
   "source": [
    "#### Uniform\n",
    "***\n",
    "An example of a discrete probability functions commonly used in data science is a discrete uniform distribution. The uniform distribution is utilised in the integer function of the simple random data package and allows for equal-probability selection beween a range of integer values. "
   ]
  },
  {
   "cell_type": "code",
   "execution_count": 72,
   "metadata": {},
   "outputs": [
    {
     "data": {
      "text/plain": [
       "(array([ 982., 1034., 1059.,  992.,  986.,  947.,  953., 1040., 1035.,\n",
       "         972.]),\n",
       " array([1.40744735e-03, 1.00118346e+00, 2.00095946e+00, 3.00073547e+00,\n",
       "        4.00051148e+00, 5.00028749e+00, 6.00006349e+00, 6.99983950e+00,\n",
       "        7.99961551e+00, 8.99939152e+00, 9.99916752e+00]),\n",
       " <a list of 10 Patch objects>)"
      ]
     },
     "execution_count": 72,
     "metadata": {},
     "output_type": "execute_result"
    },
    {
     "data": {
      "image/png": "[encoded data removed]",
      "text/plain": [
       "<Figure size 432x288 with 1 Axes>"
      ]
     },
     "metadata": {
      "needs_background": "light"
     },
     "output_type": "display_data"
    }
   ],
   "source": [
    "rng = np.random.default_rng()\n",
    "x = rng.uniform(0,10, 10000)\n",
    "plt.hist(x)"
   ]
  },
  {
   "cell_type": "markdown",
   "metadata": {},
   "source": [
    "#### Binomial\n",
    "***\n",
    "\n",
    "Binomial distribution are another example of discrete probability and in a binomial distribution there are 2 potential outcomes per event. A binomial distribution is the probability of success every time an experiement is run. Each instance of the experiment is known as a trail and each trail has a Boolean value as its outcome .\n",
    "\n",
    "A binomial distribution is made up of specified paramaeters; *n* trials and *p* probability of success where n is an integer >= 0 and p is in the interval between 0 - 1. \n",
    "\n",
    "Lets imagine a novel application of a binomial distribution. Lets take a random sample of 10 people and test whehter they test positive for Covid-19 with a probability of success as 8%\n",
    "In this test there are certain pre-requisites:\n",
    "* There are two potential outcomes per trail; True or False\n",
    "* The probability of success (p) is the same in each trail; 8%\n",
    "* The number of trails is fixed; (n)\n",
    "* Each trail is independent\n",
    "As all these pre-requisites are met we can perform a binomial distribution\n",
    "\n",
    "[5][6][7]"
   ]
  },
  {
   "cell_type": "code",
   "execution_count": 73,
   "metadata": {},
   "outputs": [
    {
     "data": {
      "image/png": "[encoded data removed]",
      "text/plain": [
       "<Figure size 432x288 with 1 Axes>"
      ]
     },
     "metadata": {
      "needs_background": "light"
     },
     "output_type": "display_data"
    }
   ],
   "source": [
    "rng = np.random.default_rng()\n",
    "\n",
    "# declaring the variables n = number of trials, p = probability of success of each trial\n",
    "n, p = 10, 0.8  \n",
    "s = rng.binomial(n, p, 1000)\n",
    "plt.hist(s)\n",
    "plt.title('Binomial Distribution')\n",
    "plt.ylabel(\"Probability of Success\") \n",
    "plt.xlabel(\"No. of Trials\") \n",
    "plt.show() "
   ]
  },
  {
   "cell_type": "markdown",
   "metadata": {},
   "source": [
    "#### Poisson \n",
    "***\n",
    "\n",
    "A poisson distribution is the probability of events occuring at regular intervals of time if these events are independent of each other. The poisson distribution requires just one parameter which is the expected number of events per time interval.\n",
    "\n",
    "\n",
    "\n",
    "\n",
    "Lets imagine a novel application of a binomial distribution. Lets take a random sample of 10 people and test whehter they test positive for Covid-19 with a probability of success as 8%\n",
    "In this test there are certain assumptions:\n",
    "* The rate at which the events occur is constant  \n",
    "* The occurence of one event does not affect the occurence of a subsequent event\n",
    "\n",
    "\n",
    "[8][9][10]"
   ]
  },
  {
   "cell_type": "code",
   "execution_count": 74,
   "metadata": {},
   "outputs": [
    {
     "data": {
      "image/png": "[encoded data removed]",
      "text/plain": [
       "<Figure size 432x288 with 1 Axes>"
      ]
     },
     "metadata": {
      "needs_background": "light"
     },
     "output_type": "display_data"
    }
   ],
   "source": [
    "rng = np.random.default_rng()\n",
    "s = rng.poisson(5, 10000)\n",
    "plt.hist(s)\n",
    "plt.title('Poisson Distribution')\n",
    "plt.ylabel(\"Frequency\") \n",
    "plt.show()"
   ]
  },
  {
   "cell_type": "markdown",
   "metadata": {},
   "source": [
    "### Continous Distribuitons\n",
    "\n",
    "In contrast, when dealing with continous values the probability of such a value being the outcome of an event is much less likely and so it is more help to determine the probability of a range of continous values. When dealing with continuous values it is almost impossible to say with certainty that a range of values will occur, but you can assign a level of confidence that the occur will be within this value range.\n",
    "One method of computing continous probability distributions is with a probability density function\n",
    "\n",
    "[4]"
   ]
  },
  {
   "cell_type": "markdown",
   "metadata": {},
   "source": [
    "#### Normal\n",
    "***\n",
    "\n",
    "The normal distribution is one of the more commonly used distributions in statistics since it more closely represents  real world scenarios such as exams results or heights of a certain population. The normal distibution is also referred to as the bell curve becaue of its charactertistic shape.\n",
    "\n",
    "Lets look at a novel example of heights of people in ireland with a sample size of 10000\n",
    "\n",
    "[11][12][13]"
   ]
  },
  {
   "cell_type": "code",
   "execution_count": 75,
   "metadata": {
    "scrolled": true
   },
   "outputs": [
    {
     "data": {
      "image/png": "[encoded data removed]",
      "text/plain": [
       "<Figure size 432x288 with 1 Axes>"
      ]
     },
     "metadata": {
      "needs_background": "light"
     },
     "output_type": "display_data"
    }
   ],
   "source": [
    "rng = np.random.default_rng()\n",
    "x = rng.normal(175,10, 10000)\n",
    "plt.hist(x)\n",
    "plt.title('Normal Distribution')\n",
    "plt.xlabel(\"Height in CM\") \n",
    "plt.show()"
   ]
  },
  {
   "cell_type": "markdown",
   "metadata": {},
   "source": [
    "#### Gamma\n",
    "***\n",
    "\n",
    "Gamma distribution is a right skewed distribution used for continuous variables. The Gamma distribution takes two parameter; choice and scale. The scale parameter determines where the majority of the data lies, while shape determines how the distribution will look.\n",
    "[14][15]"
   ]
  },
  {
   "cell_type": "code",
   "execution_count": 76,
   "metadata": {},
   "outputs": [
    {
     "data": {
      "image/png": "[encoded data removed]",
      "text/plain": [
       "<Figure size 432x288 with 1 Axes>"
      ]
     },
     "metadata": {
      "needs_background": "light"
     },
     "output_type": "display_data"
    }
   ],
   "source": [
    "rng = np.random.default_rng()\n",
    "shape = 5\n",
    "scale = 10\n",
    "x = rng.gamma(shape,scale,1000)\n",
    "plt.hist(x)\n",
    "plt.title('Gamma Distribution') \n",
    "plt.ylabel(\"Frequency\") \n",
    "plt.show()"
   ]
  },
  {
   "cell_type": "markdown",
   "metadata": {},
   "source": [
    "By adjustung the shape parameter we can see the effect it has on the shape of the garph"
   ]
  },
  {
   "cell_type": "code",
   "execution_count": 77,
   "metadata": {},
   "outputs": [
    {
     "data": {
      "image/png": "[encoded data removed]",
      "text/plain": [
       "<Figure size 432x288 with 1 Axes>"
      ]
     },
     "metadata": {
      "needs_background": "light"
     },
     "output_type": "display_data"
    }
   ],
   "source": [
    "rng = np.random.default_rng()\n",
    "shape = 2\n",
    "scale = 10\n",
    "x = rng.gamma(shape,scale,1000)\n",
    "plt.hist(x)\n",
    "plt.title('Gamma Distribution') \n",
    "plt.ylabel(\"Frequency\") \n",
    "plt.show()"
   ]
  },
  {
   "cell_type": "markdown",
   "metadata": {},
   "source": [
    "## Section 4: Seed\n",
    "\n",
    "As discussed previously, computers are deterministic meaning they are unable to be random. In order to generate random data, computers need a mutable starting point to which various algorithms are apply to produce pseudo-random. This starting point is known as the seed. Recently, the algorithm for generating random in numpy has changed to PCG64. The PCG64 is a BitGenerator and as we saw above the BitGenerator is an object containing a string of integer values upon which the Generator algorithm. Making use of various distributions,the Generator uses the BitGenerator to produce an output of random values.\n",
    "The default seed for the PCG4 is the entropy value from the OS, entropy being a measurement of how evenly energy is being distributed in the system. The output of the PCG64 is not directly reading in Python which is why a Generator is needed\n",
    "\n",
    "[16]"
   ]
  },
  {
   "cell_type": "markdown",
   "metadata": {},
   "source": [
    "# References \n",
    "***"
   ]
  },
  {
   "cell_type": "markdown",
   "metadata": {},
   "source": [
    "[1] https://blog.finxter.com/what-are-advantages-of-numpy-over-regular-python-lists/\n",
    "\n",
    "[2] https://en.wikipedia.org/wiki/Probability_distribution\n",
    "\n",
    "[3] https://www.khanacademy.org/computing/computer-science/cryptography/crypt/v/random-vs-pseudorandom-number-generators\n",
    "\n",
    "[4] https://en.wikipedia.org/wiki/Probability_distribution \n",
    "\n",
    "[5] https://www.youtube.com/watch?v=e04_wUoscBU\n",
    "\n",
    "[6] https://en.wikipedia.org/wiki/Binomial_distribution\n",
    "\n",
    "[7] https://numpy.org/doc/stable/reference/random/generated/numpy.random.Generator.binomial.html#numpy.random.Generator.binomial\n",
    "\n",
    "[8] https://en.wikipedia.org/wiki/Poisson_distribution\n",
    "\n",
    "[9] https://www.youtube.com/watch?v=cPOChr_kuQs\n",
    "\n",
    "[10] https://numpy.org/doc/stable/reference/random/generated/numpy.random.Generator.poisson.html#numpy.random.Generator.poisson\n",
    "\n",
    "[9] https://en.wikipedia.org/wiki/Normal_distribution\n",
    "\n",
    "[10] https://numpy.org/doc/stable/reference/random/generated/numpy.random.Generator.normal.html#numpy.random.Generator.normal\n",
    "\n",
    "[11] https://www.youtube.com/watch?v=RKdB1d5-OE0&list=PLTNMv857s9WVzutwxaMb0YZKW7hoveGLS&index=6\n",
    "\n",
    "[12] https://numpy.org/doc/stable/reference/random/generated/numpy.random.Generator.normal.html#numpy.random.Generator.normal\n",
    "\n",
    "[13] https://en.wikipedia.org/wiki/Normal_distribution\n",
    "\n",
    "[14] https://numpy.org/doc/stable/reference/random/generated/numpy.random.Generator.gamma.html#numpy.random.Generator.gamma\n",
    "\n",
    "[15] https://en.wikipedia.org/wiki/Gamma_distribution\n",
    "\n",
    "[16] https://www.pcg-random.org/posts/bounded-rands.html\n",
    "\n",
    "### Other References\n",
    "\n",
    "https://artofproblemsolving.com/wiki/index.php/Sequence_(Python)#:~:text=In%20Python%2C%20sequence%20is%20the,mutable%20%2D%20they%20can%20be%20changed.\n",
    "\n",
    "https://en.wikipedia.org/wiki/NumPy\n",
    "\n",
    "https://www.w3schools.com/python/python_lists.asp\n",
    "\n",
    "https://docs.python.org/3/library/sys.html#sys.getsizeof\n",
    "\n",
    "https://www.youtube.com/watch?v=XI6PHo_gP4E\n",
    "\n",
    "https://www.youtube.com/watch?v=YXLVjCKVP7U&list=PLTNMv857s9WVzutwxaMb0YZKW7hoveGLS&index=1\n",
    "\n",
    "https://www.youtube.com/watch?v=CfZa1daLjwo\n",
    "\n",
    "https://www.youtube.com/watch?v=b9a27XN_6tg\n",
    "\n",
    "https://www.pcg-random.org/posts/bounded-rands.html"
   ]
  },
  {
   "cell_type": "code",
   "execution_count": null,
   "metadata": {},
   "outputs": [],
   "source": []
  }
 ],
 "metadata": {
  "kernelspec": {
   "display_name": "Python 3",
   "language": "python",
   "name": "python3"
  },
  "language_info": {
   "codemirror_mode": {
    "name": "ipython",
    "version": 3
   },
   "file_extension": ".py",
   "mimetype": "text/x-python",
   "name": "python",
   "nbconvert_exporter": "python",
   "pygments_lexer": "ipython3",
   "version": "3.7.4"
  }
 },
 "nbformat": 4,
 "nbformat_minor": 2
}
